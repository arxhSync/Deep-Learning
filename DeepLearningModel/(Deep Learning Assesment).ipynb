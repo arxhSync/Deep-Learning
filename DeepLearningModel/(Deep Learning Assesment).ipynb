{
 "cells": [
  {
   "cell_type": "markdown",
   "metadata": {},
   "source": [
    "# Importing Tensorflow and checking it's version"
   ]
  },
  {
   "cell_type": "code",
   "execution_count": 1,
   "metadata": {
    "colab": {
     "base_uri": "https://localhost:8080/",
     "height": 36
    },
    "colab_type": "code",
    "id": "rQXAnLiTCLTK",
    "outputId": "b64e2a6a-cf28-4fa9-9f37-19c88b77a98f"
   },
   "outputs": [
    {
     "name": "stdout",
     "output_type": "stream",
     "text": [
      "2.1.0-rc0\n"
     ]
    }
   ],
   "source": [
    "import tensorflow as tf\n",
    "print(tf.__version__)"
   ]
  },
  {
   "cell_type": "markdown",
   "metadata": {},
   "source": [
    "# Importing Libraries"
   ]
  },
  {
   "cell_type": "code",
   "execution_count": 2,
   "metadata": {
    "colab": {},
    "colab_type": "code",
    "id": "yujt9LOZCTPX"
   },
   "outputs": [],
   "source": [
    "import numpy as np\n",
    "import matplotlib.pyplot as plt\n",
    "from tensorflow.keras.layers import Input, Conv2D, Dense, Flatten, Dropout, GlobalMaxPooling2D, MaxPooling2D, BatchNormalization\n",
    "from tensorflow.keras.models import Model"
   ]
  },
  {
   "cell_type": "markdown",
   "metadata": {},
   "source": [
    "# Importing the dataset"
   ]
  },
  {
   "cell_type": "code",
   "execution_count": 3,
   "metadata": {
    "colab": {
     "base_uri": "https://localhost:8080/",
     "height": 92
    },
    "colab_type": "code",
    "id": "s8sbUwB2CyvC",
    "outputId": "5c2c3ab1-77a5-49a3-b868-bbfafbd20d14"
   },
   "outputs": [
    {
     "name": "stdout",
     "output_type": "stream",
     "text": [
      "Downloading data from https://www.cs.toronto.edu/~kriz/cifar-10-python.tar.gz\n",
      "170500096/170498071 [==============================] - 2s 0us/step\n"
     ]
    }
   ],
   "source": [
    "cifar10 = tf.keras.datasets.cifar10\n",
    "(x_train, y_train), (x_test, y_test) = cifar10.load_data()\n",
    "\n",
    "#Split them into train & test\n",
    "x_train, x_test = x_train / 255.0, x_test / 255.0\n",
    "y_train, y_test = y_train.flatten(), y_test.flatten()"
   ]
  },
  {
   "cell_type": "markdown",
   "metadata": {},
   "source": [
    "# Shape"
   ]
  },
  {
   "cell_type": "code",
   "execution_count": 4,
   "metadata": {},
   "outputs": [
    {
     "name": "stdout",
     "output_type": "stream",
     "text": [
      "x_train.shape: (50000, 32, 32, 3)\n",
      "y_train.shape (50000,)\n"
     ]
    }
   ],
   "source": [
    "print(\"x_train.shape:\", x_train.shape)\n",
    "print(\"y_train.shape\", y_train.shape)"
   ]
  },
  {
   "cell_type": "markdown",
   "metadata": {},
   "source": [
    "# Number of classes in dataset"
   ]
  },
  {
   "cell_type": "code",
   "execution_count": 5,
   "metadata": {
    "colab": {
     "base_uri": "https://localhost:8080/",
     "height": 36
    },
    "colab_type": "code",
    "id": "k9_BjL5bDEck",
    "outputId": "edfca0ab-9543-47ce-ecd2-2dc2435da9a5"
   },
   "outputs": [
    {
     "name": "stdout",
     "output_type": "stream",
     "text": [
      "number of classes: 10\n"
     ]
    }
   ],
   "source": [
    "# number of classes\n",
    "K = len(set(y_train))\n",
    "print(\"number of classes:\", K)"
   ]
  },
  {
   "cell_type": "markdown",
   "metadata": {},
   "source": [
    "# Model using CNN"
   ]
  },
  {
   "cell_type": "code",
   "execution_count": 6,
   "metadata": {
    "colab": {},
    "colab_type": "code",
    "id": "25yysuIvDNwM"
   },
   "outputs": [],
   "source": [
    "i = Input(shape=x_train[0].shape)\n",
    "\n",
    "x = Conv2D(32, (3, 3), activation='relu', padding='same')(i)\n",
    "x = BatchNormalization()(x)\n",
    "x = Conv2D(32, (3, 3), activation='relu', padding='same')(x)\n",
    "x = BatchNormalization()(x)\n",
    "x = MaxPooling2D((2, 2))(x)\n",
    "\n",
    "x = Conv2D(64, (3, 3), activation='relu', padding='same')(x)\n",
    "x = BatchNormalization()(x)\n",
    "x = Conv2D(64, (3, 3), activation='relu', padding='same')(x)\n",
    "x = BatchNormalization()(x)\n",
    "x = MaxPooling2D((2, 2))(x)\n",
    "\n",
    "x = Conv2D(128, (3, 3), activation='relu', padding='same')(x)\n",
    "x = BatchNormalization()(x)\n",
    "x = Conv2D(128, (3, 3), activation='relu', padding='same')(x)\n",
    "x = BatchNormalization()(x)\n",
    "x = MaxPooling2D((2, 2))(x)\n",
    "\n",
    "x = Flatten()(x)\n",
    "x = Dropout(0.2)(x)\n",
    "x = Dense(1024, activation='relu')(x)\n",
    "x = Dropout(0.2)(x)\n",
    "x = Dense(K, activation='softmax')(x)\n",
    "\n",
    "model = Model(i, x)"
   ]
  },
  {
   "cell_type": "code",
   "execution_count": 7,
   "metadata": {
    "colab": {},
    "colab_type": "code",
    "id": "I6rlF7w7DyTL"
   },
   "outputs": [],
   "source": [
    "model.compile(optimizer='adam',\n",
    "              loss='sparse_categorical_crossentropy',\n",
    "              metrics=['accuracy'])"
   ]
  },
  {
   "cell_type": "markdown",
   "metadata": {},
   "source": [
    "# Training"
   ]
  },
  {
   "cell_type": "code",
   "execution_count": 8,
   "metadata": {
    "colab": {
     "base_uri": "https://localhost:8080/",
     "height": 368
    },
    "colab_type": "code",
    "id": "XowUFc2FD0ef",
    "outputId": "87007228-699e-48db-8590-8587b3c35251"
   },
   "outputs": [
    {
     "name": "stdout",
     "output_type": "stream",
     "text": [
      "Train on 50000 samples, validate on 10000 samples\n",
      "Epoch 1/50\n",
      "50000/50000 [==============================] - 17s 336us/sample - loss: 1.3119 - accuracy: 0.5477 - val_loss: 0.9667 - val_accuracy: 0.6541\n",
      "Epoch 2/50\n",
      "50000/50000 [==============================] - 11s 222us/sample - loss: 0.8496 - accuracy: 0.7042 - val_loss: 0.8678 - val_accuracy: 0.7089\n",
      "Epoch 3/50\n",
      "50000/50000 [==============================] - 11s 218us/sample - loss: 0.6944 - accuracy: 0.7635 - val_loss: 0.6652 - val_accuracy: 0.7731\n",
      "Epoch 4/50\n",
      "50000/50000 [==============================] - 11s 222us/sample - loss: 0.5842 - accuracy: 0.7986 - val_loss: 0.6639 - val_accuracy: 0.7789\n",
      "Epoch 5/50\n",
      "50000/50000 [==============================] - 11s 224us/sample - loss: 0.4916 - accuracy: 0.8313 - val_loss: 0.6825 - val_accuracy: 0.7815\n",
      "Epoch 6/50\n",
      "50000/50000 [==============================] - 12s 235us/sample - loss: 0.4209 - accuracy: 0.8548 - val_loss: 0.6021 - val_accuracy: 0.8052\n",
      "Epoch 7/50\n",
      "50000/50000 [==============================] - 11s 219us/sample - loss: 0.3582 - accuracy: 0.8761 - val_loss: 0.6091 - val_accuracy: 0.8099\n",
      "Epoch 8/50\n",
      "50000/50000 [==============================] - 11s 219us/sample - loss: 0.3058 - accuracy: 0.8939 - val_loss: 0.6298 - val_accuracy: 0.8080\n",
      "Epoch 9/50\n",
      "50000/50000 [==============================] - 11s 216us/sample - loss: 0.2570 - accuracy: 0.9112 - val_loss: 0.5932 - val_accuracy: 0.8211\n",
      "Epoch 10/50\n",
      "50000/50000 [==============================] - 11s 220us/sample - loss: 0.2209 - accuracy: 0.9247 - val_loss: 0.6914 - val_accuracy: 0.8220\n",
      "Epoch 11/50\n",
      "50000/50000 [==============================] - 12s 236us/sample - loss: 0.1957 - accuracy: 0.9336 - val_loss: 0.6911 - val_accuracy: 0.8115\n",
      "Epoch 12/50\n",
      "50000/50000 [==============================] - 11s 224us/sample - loss: 0.1817 - accuracy: 0.9379 - val_loss: 0.7313 - val_accuracy: 0.8119\n",
      "Epoch 13/50\n",
      "50000/50000 [==============================] - 11s 219us/sample - loss: 0.1553 - accuracy: 0.9464 - val_loss: 0.7822 - val_accuracy: 0.8252\n",
      "Epoch 14/50\n",
      "50000/50000 [==============================] - 11s 216us/sample - loss: 0.1493 - accuracy: 0.9496 - val_loss: 0.7491 - val_accuracy: 0.8217\n",
      "Epoch 15/50\n",
      "50000/50000 [==============================] - 11s 217us/sample - loss: 0.1331 - accuracy: 0.9556 - val_loss: 0.7260 - val_accuracy: 0.8140\n",
      "Epoch 16/50\n",
      "50000/50000 [==============================] - 11s 221us/sample - loss: 0.1284 - accuracy: 0.9566 - val_loss: 0.7081 - val_accuracy: 0.8176\n",
      "Epoch 17/50\n",
      "50000/50000 [==============================] - 12s 233us/sample - loss: 0.1174 - accuracy: 0.9607 - val_loss: 0.7290 - val_accuracy: 0.8321\n",
      "Epoch 18/50\n",
      "50000/50000 [==============================] - 11s 217us/sample - loss: 0.1112 - accuracy: 0.9630 - val_loss: 0.7115 - val_accuracy: 0.8345\n",
      "Epoch 19/50\n",
      "50000/50000 [==============================] - 11s 222us/sample - loss: 0.0983 - accuracy: 0.9682 - val_loss: 0.8232 - val_accuracy: 0.8236\n",
      "Epoch 20/50\n",
      "50000/50000 [==============================] - 11s 218us/sample - loss: 0.1012 - accuracy: 0.9664 - val_loss: 0.7293 - val_accuracy: 0.8333\n",
      "Epoch 21/50\n",
      "50000/50000 [==============================] - 11s 215us/sample - loss: 0.0937 - accuracy: 0.9691 - val_loss: 0.7703 - val_accuracy: 0.8406\n",
      "Epoch 22/50\n",
      "50000/50000 [==============================] - 11s 228us/sample - loss: 0.0891 - accuracy: 0.9707 - val_loss: 0.7420 - val_accuracy: 0.8346\n",
      "Epoch 23/50\n",
      "50000/50000 [==============================] - 11s 222us/sample - loss: 0.0813 - accuracy: 0.9723 - val_loss: 0.7454 - val_accuracy: 0.8370\n",
      "Epoch 24/50\n",
      "50000/50000 [==============================] - 11s 222us/sample - loss: 0.0834 - accuracy: 0.9732 - val_loss: 0.7226 - val_accuracy: 0.8322\n",
      "Epoch 25/50\n",
      "50000/50000 [==============================] - 11s 219us/sample - loss: 0.0735 - accuracy: 0.9756 - val_loss: 0.8595 - val_accuracy: 0.8403\n",
      "Epoch 26/50\n",
      "50000/50000 [==============================] - 11s 218us/sample - loss: 0.0787 - accuracy: 0.9749 - val_loss: 0.7517 - val_accuracy: 0.8271\n",
      "Epoch 27/50\n",
      "50000/50000 [==============================] - 11s 225us/sample - loss: 0.0709 - accuracy: 0.9776 - val_loss: 0.8676 - val_accuracy: 0.8425\n",
      "Epoch 28/50\n",
      "50000/50000 [==============================] - 11s 226us/sample - loss: 0.0713 - accuracy: 0.9769 - val_loss: 0.8007 - val_accuracy: 0.8427\n",
      "Epoch 29/50\n",
      "50000/50000 [==============================] - 11s 214us/sample - loss: 0.0631 - accuracy: 0.9791 - val_loss: 0.8596 - val_accuracy: 0.8364\n",
      "Epoch 30/50\n",
      "50000/50000 [==============================] - 11s 219us/sample - loss: 0.0642 - accuracy: 0.9795 - val_loss: 0.8576 - val_accuracy: 0.8251\n",
      "Epoch 31/50\n",
      "50000/50000 [==============================] - 11s 214us/sample - loss: 0.0677 - accuracy: 0.9778 - val_loss: 0.8339 - val_accuracy: 0.8380\n",
      "Epoch 32/50\n",
      "50000/50000 [==============================] - 11s 230us/sample - loss: 0.0488 - accuracy: 0.9845 - val_loss: 0.9031 - val_accuracy: 0.8407\n",
      "Epoch 40/50\n",
      "50000/50000 [==============================] - 11s 218us/sample - loss: 0.0515 - accuracy: 0.9832 - val_loss: 0.8433 - val_accuracy: 0.8424\n",
      "Epoch 41/50\n",
      "50000/50000 [==============================] - 11s 220us/sample - loss: 0.0464 - accuracy: 0.9848 - val_loss: 0.8780 - val_accuracy: 0.8412\n",
      "Epoch 42/50\n",
      "50000/50000 [==============================] - 11s 216us/sample - loss: 0.0484 - accuracy: 0.9847 - val_loss: 0.8408 - val_accuracy: 0.8467\n",
      "Epoch 43/50\n",
      "50000/50000 [==============================] - 11s 216us/sample - loss: 0.0439 - accuracy: 0.9855 - val_loss: 0.9404 - val_accuracy: 0.8305\n",
      "Epoch 44/50\n",
      "50000/50000 [==============================] - 12s 234us/sample - loss: 0.0482 - accuracy: 0.9844 - val_loss: 0.8714 - val_accuracy: 0.8364\n",
      "Epoch 45/50\n",
      "50000/50000 [==============================] - 11s 217us/sample - loss: 0.0428 - accuracy: 0.9861 - val_loss: 0.9591 - val_accuracy: 0.8316\n",
      "Epoch 46/50\n",
      "50000/50000 [==============================] - 11s 216us/sample - loss: 0.0472 - accuracy: 0.9856 - val_loss: 0.9060 - val_accuracy: 0.8359\n",
      "Epoch 47/50\n",
      "50000/50000 [==============================] - 11s 218us/sample - loss: 0.0422 - accuracy: 0.9862 - val_loss: 0.8651 - val_accuracy: 0.8392\n",
      "Epoch 48/50\n",
      "50000/50000 [==============================] - 11s 217us/sample - loss: 0.0382 - accuracy: 0.9876 - val_loss: 0.8682 - val_accuracy: 0.8422\n",
      "Epoch 49/50\n",
      "50000/50000 [==============================] - 11s 226us/sample - loss: 0.0415 - accuracy: 0.9866 - val_loss: 0.9579 - val_accuracy: 0.8370\n",
      "Epoch 50/50\n",
      "50000/50000 [==============================] - 11s 221us/sample - loss: 0.0442 - accuracy: 0.9865 - val_loss: 0.7561 - val_accuracy: 0.8360\n"
     ]
    }
   ],
   "source": [
    "r = model.fit(x_train, y_train, validation_data=(x_test, y_test), epochs=50)"
   ]
  },
  {
   "cell_type": "markdown",
   "metadata": {},
   "source": [
    "# Retrain data with augmentation"
   ]
  },
  {
   "cell_type": "code",
   "execution_count": 9,
   "metadata": {
    "colab": {},
    "colab_type": "code",
    "id": "oAyHPpaGD3aT"
   },
   "outputs": [
    {
     "name": "stdout",
     "output_type": "stream",
     "text": [
      "Train for 1562 steps, validate on 10000 samples\n",
      "Epoch 1/50\n",
      "1562/1562 [==============================] - 29s 18ms/step - loss: 0.5511 - accuracy: 0.8260 - val_loss: 0.5054 - val_accuracy: 0.8362\n",
      "Epoch 2/50\n",
      "1562/1562 [==============================] - 29s 19ms/step - loss: 0.4376 - accuracy: 0.8572 - val_loss: 0.4888 - val_accuracy: 0.8414\n",
      "Epoch 3/50\n",
      "1562/1562 [==============================] - 28s 18ms/step - loss: 0.4016 - accuracy: 0.8678 - val_loss: 0.4446 - val_accuracy: 0.8543\n",
      "Epoch 4/50\n",
      "1562/1562 [==============================] - 29s 19ms/step - loss: 0.3822 - accuracy: 0.8723 - val_loss: 0.4506 - val_accuracy: 0.8511\n",
      "Epoch 5/50\n",
      "1562/1562 [==============================] - 28s 18ms/step - loss: 0.3593 - accuracy: 0.8798 - val_loss: 0.4462 - val_accuracy: 0.8605\n",
      "Epoch 6/50\n",
      "1562/1562 [==============================] - 29s 19ms/step - loss: 0.3457 - accuracy: 0.8842 - val_loss: 0.4558 - val_accuracy: 0.8515\n",
      "Epoch 7/50\n",
      "1562/1562 [==============================] - 29s 18ms/step - loss: 0.3344 - accuracy: 0.8875 - val_loss: 0.4527 - val_accuracy: 0.8563\n",
      "Epoch 8/50\n",
      "1562/1562 [==============================] - 29s 19ms/step - loss: 0.3226 - accuracy: 0.8904 - val_loss: 0.4472 - val_accuracy: 0.8605\n",
      "Epoch 9/50\n",
      "1562/1562 [==============================] - 28s 18ms/step - loss: 0.3074 - accuracy: 0.8978 - val_loss: 0.4159 - val_accuracy: 0.8644\n",
      "Epoch 10/50\n",
      "1562/1562 [==============================] - 29s 19ms/step - loss: 0.3031 - accuracy: 0.8984 - val_loss: 0.4241 - val_accuracy: 0.8666\n",
      "Epoch 11/50\n",
      "1562/1562 [==============================] - 28s 18ms/step - loss: 0.2912 - accuracy: 0.9017 - val_loss: 0.4733 - val_accuracy: 0.8504\n",
      "Epoch 12/50\n",
      "1562/1562 [==============================] - 29s 19ms/step - loss: 0.2841 - accuracy: 0.9047 - val_loss: 0.4368 - val_accuracy: 0.8611\n",
      "Epoch 13/50\n",
      "1562/1562 [==============================] - 29s 18ms/step - loss: 0.2683 - accuracy: 0.9088 - val_loss: 0.4294 - val_accuracy: 0.8693\n",
      "Epoch 14/50\n",
      "1562/1562 [==============================] - 29s 19ms/step - loss: 0.2689 - accuracy: 0.9089 - val_loss: 0.4157 - val_accuracy: 0.8713\n",
      "Epoch 15/50\n",
      "1562/1562 [==============================] - 29s 18ms/step - loss: 0.2577 - accuracy: 0.9128 - val_loss: 0.4125 - val_accuracy: 0.8740\n",
      "Epoch 16/50\n",
      "1562/1562 [==============================] - 29s 19ms/step - loss: 0.2564 - accuracy: 0.9138 - val_loss: 0.4075 - val_accuracy: 0.8786\n",
      "Epoch 17/50\n",
      "1562/1562 [==============================] - 30s 19ms/step - loss: 0.2488 - accuracy: 0.9153 - val_loss: 0.4547 - val_accuracy: 0.8567\n",
      "Epoch 18/50\n",
      "1562/1562 [==============================] - 29s 18ms/step - loss: 0.2433 - accuracy: 0.9180 - val_loss: 0.4949 - val_accuracy: 0.8480\n",
      "Epoch 19/50\n",
      "1562/1562 [==============================] - 29s 19ms/step - loss: 0.2392 - accuracy: 0.9186 - val_loss: 0.4310 - val_accuracy: 0.8706\n",
      "Epoch 20/50\n",
      "1562/1562 [==============================] - 28s 18ms/step - loss: 0.2350 - accuracy: 0.9204 - val_loss: 0.4629 - val_accuracy: 0.8619\n",
      "Epoch 21/50\n",
      "1562/1562 [==============================] - 29s 19ms/step - loss: 0.2267 - accuracy: 0.9225 - val_loss: 0.4493 - val_accuracy: 0.8680\n",
      "Epoch 22/50\n",
      "1562/1562 [==============================] - 28s 18ms/step - loss: 0.2223 - accuracy: 0.9232 - val_loss: 0.4269 - val_accuracy: 0.8727\n",
      "Epoch 23/50\n",
      "1562/1562 [==============================] - 29s 19ms/step - loss: 0.2175 - accuracy: 0.9277 - val_loss: 0.3957 - val_accuracy: 0.8743\n",
      "Epoch 24/50\n",
      " 170/1562 [==>...........................] - ETA: 23s - loss: 0.1915 - accuracy: 0.9351"
     ]
    }
   ],
   "source": [
    "batch_size = 32\n",
    "data_generator = tf.keras.preprocessing.image.ImageDataGenerator(width_shift_range=0.1, height_shift_range=0.1, horizontal_flip=True)\n",
    "train_generator = data_generator.flow(x_train, y_train, batch_size)\n",
    "steps_per_epoch = x_train.shape[0] // batch_size\n",
    "r = model.fit_generator(train_generator, validation_data=(x_test, y_test), steps_per_epoch=steps_per_epoch, epochs=50)"
   ]
  },
  {
   "cell_type": "markdown",
   "metadata": {},
   "source": [
    "# Loss Plot"
   ]
  },
  {
   "cell_type": "code",
   "execution_count": 10,
   "metadata": {
    "colab": {},
    "colab_type": "code",
    "id": "yVn27-TDE4Bs"
   },
   "outputs": [
    {
     "data": {
      "text/plain": [
       "<matplotlib.legend.Legend at 0x7f28285f4eb8>"
      ]
     },
     "execution_count": 10,
     "metadata": {},
     "output_type": "execute_result"
    },
    {
     "data": {
      "image/png": "[encoded data removed]",
      "text/plain": [
       "<Figure size 720x360 with 1 Axes>"
      ]
     },
     "metadata": {
      "needs_background": "light"
     },
     "output_type": "display_data"
    }
   ],
   "source": [
    "# Plot loss per iteration\n",
    "import matplotlib.pyplot as plt\n",
    "plt.rcParams['figure.figsize'] = [10,5]\n",
    "plt.plot(r.history['loss'], label='loss')\n",
    "plt.plot(r.history['val_loss'], label='val_loss')\n",
    "plt.legend()"
   ]
  },
  {
   "cell_type": "markdown",
   "metadata": {},
   "source": [
    "# Accuracy Plot"
   ]
  },
  {
   "cell_type": "code",
   "execution_count": 11,
   "metadata": {
    "colab": {},
    "colab_type": "code",
    "id": "j5VPisdiE7YR"
   },
   "outputs": [
    {
     "data": {
      "text/plain": [
       "<matplotlib.legend.Legend at 0x7f282852e748>"
      ]
     },
     "execution_count": 11,
     "metadata": {},
     "output_type": "execute_result"
    },
    {
     "data": {
      "image/png": "[encoded data removed]",
      "text/plain": [
       "<Figure size 720x360 with 1 Axes>"
      ]
     },
     "metadata": {
      "needs_background": "light"
     },
     "output_type": "display_data"
    }
   ],
   "source": [
    "# Plot accuracy per iteration\n",
    "plt.plot(r.history['accuracy'], label='acc')\n",
    "plt.plot(r.history['val_accuracy'], label='val_acc')\n",
    "plt.legend()"
   ]
  },
  {
   "cell_type": "markdown",
   "metadata": {},
   "source": [
    "# Confusion Matrix"
   ]
  },
  {
   "cell_type": "code",
   "execution_count": 12,
   "metadata": {
    "colab": {},
    "colab_type": "code",
    "id": "Rmw515IYE7f6"
   },
   "outputs": [
    {
     "name": "stdout",
     "output_type": "stream",
     "text": [
      "Confusion matrix, without normalization\n",
      "[[899   4  25   6   6   4   5   7  28  16]\n",
      " [  6 966   1   0   0   0   1   0   6  20]\n",
      " [ 26   0 851  23  28  16  39  13   4   0]\n",
      " [ 10   3  38 742  32  95  49  22   4   5]\n",
      " [  4   0  29  22 868   8  38  28   3   0]\n",
      " [  7   0  31 101  22 784  26  25   2   2]\n",
      " [  3   1  20  17   6   4 944   3   1   1]\n",
      " [  5   0   7   9  27  13   7 929   0   3]\n",
      " [ 29   6   5   3   2   0   3   2 937  13]\n",
      " [ 13  39   2   4   2   1   5   3   7 924]]\n"
     ]
    },
    {
     "data": {
      "image/png": "[encoded data removed]",
      "text/plain": [
       "<Figure size 720x504 with 2 Axes>"
      ]
     },
     "metadata": {
      "needs_background": "light"
     },
     "output_type": "display_data"
    }
   ],
   "source": [
    "# Plot confusion matrix\n",
    "from sklearn.metrics import confusion_matrix\n",
    "import itertools\n",
    "plt.rcParams['figure.figsize'] = [10,7]\n",
    "\n",
    "def plot_confusion_matrix(cm, classes,\n",
    "                          normalize=False,\n",
    "                          title='Confusion matrix',\n",
    "                          cmap=plt.cm.Blues):\n",
    "\n",
    "    if normalize:\n",
    "        cm = cm.astype('float') / cm.sum(axis=1)[:, np.newaxis]\n",
    "        print(\"Normalized confusion matrix\")\n",
    "    else:\n",
    "        print('Confusion matrix, without normalization')\n",
    "\n",
    "    print(cm)\n",
    "\n",
    "    plt.imshow(cm, interpolation='nearest', cmap=cmap)\n",
    "    plt.title(title)\n",
    "    plt.colorbar()\n",
    "    tick_marks = np.arange(len(classes))\n",
    "    plt.xticks(tick_marks, classes, rotation=45)\n",
    "    plt.yticks(tick_marks, classes)\n",
    "\n",
    "    fmt = '.2f' if normalize else 'd'\n",
    "    thresh = cm.max() / 2.\n",
    "    for i, j in itertools.product(range(cm.shape[0]), range(cm.shape[1])):\n",
    "        plt.text(j, i, format(cm[i, j], fmt),\n",
    "                horizontalalignment=\"center\",\n",
    "                color=\"white\" if cm[i, j] > thresh else \"black\")\n",
    "\n",
    "    plt.tight_layout()\n",
    "    plt.ylabel('True label')\n",
    "    plt.xlabel('Predicted label')\n",
    "    plt.show()\n",
    "\n",
    "\n",
    "p_test = model.predict(x_test).argmax(axis=1)\n",
    "cm = confusion_matrix(y_test, p_test)\n",
    "plot_confusion_matrix(cm, list(range(10)))"
   ]
  },
  {
   "cell_type": "markdown",
   "metadata": {},
   "source": [
    "# Labels"
   ]
  },
  {
   "cell_type": "code",
   "execution_count": 13,
   "metadata": {
    "colab": {},
    "colab_type": "code",
    "id": "RIAp0uPDE7p5"
   },
   "outputs": [],
   "source": [
    "labels = '''airplane\n",
    "automobile\n",
    "bird\n",
    "cat\n",
    "deer\n",
    "dog\n",
    "frog\n",
    "horse\n",
    "ship\n",
    "truck'''.split()"
   ]
  },
  {
   "cell_type": "markdown",
   "metadata": {},
   "source": [
    "# Right predictions"
   ]
  },
  {
   "cell_type": "code",
   "execution_count": 14,
   "metadata": {
    "colab": {},
    "colab_type": "code",
    "id": "4Cu8Sh1tFD6u"
   },
   "outputs": [
    {
     "data": {
      "image/png": "[encoded data removed]",
      "text/plain": [
       "<Figure size 720x504 with 1 Axes>"
      ]
     },
     "metadata": {
      "needs_background": "light"
     },
     "output_type": "display_data"
    }
   ],
   "source": [
    "misclassified_idx = np.where(p_test == y_test)[0]\n",
    "i = np.random.choice(misclassified_idx)\n",
    "plt.imshow(x_test[i], cmap='gray')\n",
    "plt.title(\"True label: %s Predicted: %s\" % (labels[y_test[i]], labels[p_test[i]]));"
   ]
  },
  {
   "cell_type": "markdown",
   "metadata": {},
   "source": [
    "# Wrong predictions"
   ]
  },
  {
   "cell_type": "code",
   "execution_count": 15,
   "metadata": {},
   "outputs": [
    {
     "data": {
      "image/png": "[encoded data removed]",
      "text/plain": [
       "<Figure size 720x504 with 1 Axes>"
      ]
     },
     "metadata": {
      "needs_background": "light"
     },
     "output_type": "display_data"
    }
   ],
   "source": [
    "misclassified_idx = np.where(p_test != y_test)[0]\n",
    "i = np.random.choice(misclassified_idx)\n",
    "plt.imshow(x_test[i], cmap='gray')\n",
    "plt.title(\"True label: %s Predicted: %s\" % (labels[y_test[i]], labels[p_test[i]]));"
   ]
  },
  {
   "cell_type": "markdown",
   "metadata": {},
   "source": [
    "# Model summary"
   ]
  },
  {
   "cell_type": "code",
   "execution_count": 16,
   "metadata": {
    "colab": {},
    "colab_type": "code",
    "id": "v0-YnS6jFECi"
   },
   "outputs": [
    {
     "name": "stdout",
     "output_type": "stream",
     "text": [
      "Model: \"model\"\n",
      "_________________________________________________________________\n",
      "Layer (type)                 Output Shape              Param #   \n",
      "=================================================================\n",
      "input_1 (InputLayer)         [(None, 32, 32, 3)]       0         \n",
      "_________________________________________________________________\n",
      "conv2d (Conv2D)              (None, 32, 32, 32)        896       \n",
      "_________________________________________________________________\n",
      "batch_normalization (BatchNo (None, 32, 32, 32)        128       \n",
      "_________________________________________________________________\n",
      "conv2d_1 (Conv2D)            (None, 32, 32, 32)        9248      \n",
      "_________________________________________________________________\n",
      "batch_normalization_1 (Batch (None, 32, 32, 32)        128       \n",
      "_________________________________________________________________\n",
      "max_pooling2d (MaxPooling2D) (None, 16, 16, 32)        0         \n",
      "_________________________________________________________________\n",
      "conv2d_2 (Conv2D)            (None, 16, 16, 64)        18496     \n",
      "_________________________________________________________________\n",
      "batch_normalization_2 (Batch (None, 16, 16, 64)        256       \n",
      "_________________________________________________________________\n",
      "conv2d_3 (Conv2D)            (None, 16, 16, 64)        36928     \n",
      "_________________________________________________________________\n",
      "batch_normalization_3 (Batch (None, 16, 16, 64)        256       \n",
      "_________________________________________________________________\n",
      "max_pooling2d_1 (MaxPooling2 (None, 8, 8, 64)          0         \n",
      "_________________________________________________________________\n",
      "conv2d_4 (Conv2D)            (None, 8, 8, 128)         73856     \n",
      "_________________________________________________________________\n",
      "batch_normalization_4 (Batch (None, 8, 8, 128)         512       \n",
      "_________________________________________________________________\n",
      "conv2d_5 (Conv2D)            (None, 8, 8, 128)         147584    \n",
      "_________________________________________________________________\n",
      "batch_normalization_5 (Batch (None, 8, 8, 128)         512       \n",
      "_________________________________________________________________\n",
      "max_pooling2d_2 (MaxPooling2 (None, 4, 4, 128)         0         \n",
      "_________________________________________________________________\n",
      "flatten (Flatten)            (None, 2048)              0         \n",
      "_________________________________________________________________\n",
      "dropout (Dropout)            (None, 2048)              0         \n",
      "_________________________________________________________________\n",
      "dense (Dense)                (None, 1024)              2098176   \n",
      "_________________________________________________________________\n",
      "dropout_1 (Dropout)          (None, 1024)              0         \n",
      "_________________________________________________________________\n",
      "dense_1 (Dense)              (None, 10)                10250     \n",
      "=================================================================\n",
      "Total params: 2,397,226\n",
      "Trainable params: 2,396,330\n",
      "Non-trainable params: 896\n",
      "_________________________________________________________________\n"
     ]
    }
   ],
   "source": [
    "model.summary()"
   ]
  }
 ],
 "metadata": {
  "colab": {
   "name": "CIFAR_10_Improved.ipynb",
   "provenance": []
  },
  "kernelspec": {
   "display_name": "Python 3",
   "language": "python",
   "name": "python3"
  },
  "language_info": {
   "codemirror_mode": {
    "name": "ipython",
    "version": 3
   },
   "file_extension": ".py",
   "mimetype": "text/x-python",
   "name": "python",
   "nbconvert_exporter": "python",
   "pygments_lexer": "ipython3",
   "version": "3.8.8"
  }
 },
 "nbformat": 4,
 "nbformat_minor": 1
}
